{
 "cells": [
  {
   "cell_type": "markdown",
   "metadata": {},
   "source": [
    "# [Your Name] [Your ID]\n",
    "## Data Science 201\n",
    "## Assignment 4"
   ]
  },
  {
   "cell_type": "markdown",
   "metadata": {},
   "source": [
    "### Part 1: Reading Data"
   ]
  },
  {
   "cell_type": "code",
   "execution_count": 128,
   "metadata": {},
   "outputs": [],
   "source": [
    "# your work here, add more cells if necessary\n",
    "import pandas as pd\n",
    "import numpy as np\n",
    "import os\n",
    "\n",
    "df = pd.read_csv(\"persons_of_concern (1).csv\")"
   ]
  },
  {
   "cell_type": "code",
   "execution_count": 129,
   "metadata": {},
   "outputs": [
    {
     "name": "stdout",
     "output_type": "stream",
     "text": [
      "Number of rows in your DataFrame: 44977\n",
      "Seems to be correct\n"
     ]
    }
   ],
   "source": [
    "# Check your work (assumes you call your DataFrame df!)\n",
    "# IMPORTANT: All of the check your work cells assume that df contains the **current** \n",
    "print(\"Number of rows in your DataFrame:\", len(df))\n",
    "assert len(df) == 44977, \"Incorrect number of rows\"\n",
    "print(\"Seems to be correct\")"
   ]
  },
  {
   "cell_type": "markdown",
   "metadata": {},
   "source": [
    "### Part 2: Rename Columns"
   ]
  },
  {
   "cell_type": "code",
   "execution_count": 19,
   "metadata": {},
   "outputs": [],
   "source": [
    "# your work here, add more cells if necessary\n",
    "df.rename(columns={'Asylum-seekers (pending cases)': 'asylum', \n",
    "                              'Country / territory of asylum/residence': 'country',\n",
    "                              'Internally displaced persons (IDPs)': 'idps',\n",
    "                              'Origin': 'origin',\n",
    "                              'Others of concern': 'others',\n",
    "                              'Refugees (incl. refugee-like situations)': 'refugees',\n",
    "                              'Returned IDPs': 'ret_idps',\n",
    "                              'Returned refugees': 'ret_refugees',\n",
    "                              'Stateless persons': 'stateless',\n",
    "                              'Total Population': 'total',\n",
    "                              'Year': 'year'\n",
    "                             }, inplace=True)"
   ]
  },
  {
   "cell_type": "code",
   "execution_count": 18,
   "metadata": {},
   "outputs": [
    {
     "name": "stdout",
     "output_type": "stream",
     "text": [
      "Your column names: ['asylum', 'country', 'idps', 'origin', 'others', 'refugees', 'ret_idps', 'ret_refugees', 'stateless', 'total', 'year']\n",
      "Seems to be correct\n"
     ]
    }
   ],
   "source": [
    "# Check your work (assumes you call your DataFrame df!)\n",
    "print(\"Your column names:\", list(sorted(df.columns)))\n",
    "assert list(sorted(df.columns)) == ['asylum', 'country', 'idps', 'origin',\n",
    "                                    'others', 'refugees', 'ret_idps',\n",
    "                                    'ret_refugees', 'stateless',\n",
    "                                    'total', 'year'], \"Column names incorrect\"\n",
    "print(\"Seems to be correct\")"
   ]
  },
  {
   "cell_type": "markdown",
   "metadata": {},
   "source": [
    "### Part 3a:  Replace Asterisks and Missing Values"
   ]
  },
  {
   "cell_type": "code",
   "execution_count": 130,
   "metadata": {},
   "outputs": [],
   "source": [
    "# your work here, add more cells if necessary\n",
    "df.replace(['*'], 4, inplace=True)\n",
    "df.fillna(0, inplace=True)"
   ]
  },
  {
   "cell_type": "code",
   "execution_count": 131,
   "metadata": {},
   "outputs": [
    {
     "name": "stdout",
     "output_type": "stream",
     "text": [
      "Seems to be correct\n"
     ]
    }
   ],
   "source": [
    "# Check your work (assumes you call your DataFrame df!)\n",
    "assert not df.isnull().values.any(), \"Null (NaN) values still exist\"\n",
    "assert not df.isin(['*']).values.any(), \"Asterisk values still exist\"\n",
    "print(\"Seems to be correct\")"
   ]
  },
  {
   "cell_type": "markdown",
   "metadata": {},
   "source": [
    "### Part 3b: Convert Column Types"
   ]
  },
  {
   "cell_type": "code",
   "execution_count": 39,
   "metadata": {},
   "outputs": [],
   "source": [
    "# your work here, add more cells if necessary\n",
    "for col in ['asylum', 'idps', 'others','refugees', 'ret_idps','ret_refugees','stateless','total']:\n",
    "    df[col] = df[col].astype(np.int64)"
   ]
  },
  {
   "cell_type": "code",
   "execution_count": 38,
   "metadata": {},
   "outputs": [
    {
     "name": "stdout",
     "output_type": "stream",
     "text": [
      "Your DataFrame: asylum          int64\n",
      "idps            int64\n",
      "others          int64\n",
      "refugees        int64\n",
      "ret_idps        int64\n",
      "ret_refugees    int64\n",
      "stateless       int64\n",
      "total           int64\n",
      "dtype: object\n",
      "Seems to be correct\n"
     ]
    }
   ],
   "source": [
    "print(\"Your DataFrame:\", df[['asylum', 'idps', 'others','refugees', 'ret_idps','ret_refugees','stateless','total']].dtypes)\n",
    "assert all(df[['asylum', 'idps', 'others','refugees', 'ret_idps','ret_refugees','stateless','total']].dtypes == 'int64'), \"Not all columns correctly converted to int64\"\n",
    "print(\"Seems to be correct\")"
   ]
  },
  {
   "cell_type": "markdown",
   "metadata": {},
   "source": [
    "### Part 4: Origins"
   ]
  },
  {
   "cell_type": "code",
   "execution_count": 80,
   "metadata": {},
   "outputs": [],
   "source": [
    "def get_destinations(country):\n",
    "    result = list(df[df[\"origin\"]==country][\"country\"].unique())\n",
    "    return  result"
   ]
  },
  {
   "cell_type": "code",
   "execution_count": 81,
   "metadata": {},
   "outputs": [
    {
     "name": "stdout",
     "output_type": "stream",
     "text": [
      "Your answer: ['Canada', 'Ukraine', 'United States of America']\n",
      "Seems to be correct\n"
     ]
    }
   ],
   "source": [
    "print(\"Your answer:\", list(sorted(get_destinations(\"Turks and Caicos Islands\"))))\n",
    "assert list(sorted(get_destinations(\"Turks and Caicos Islands\"))) == ['Canada', 'Ukraine', 'United States of America'], \"Does not work for Turks and Caicos\"\n",
    "print(\"Seems to be correct\")"
   ]
  },
  {
   "cell_type": "markdown",
   "metadata": {},
   "source": [
    "### Part 5: Difference"
   ]
  },
  {
   "cell_type": "code",
   "execution_count": 54,
   "metadata": {},
   "outputs": [],
   "source": [
    "# your work here, add more cells if necessary\n",
    "col_list = ['asylum', 'idps', 'others','refugees', 'ret_idps','ret_refugees','stateless']\n",
    "df[\"total_diff\"] = df[\"total\"] - df[col_list].sum(axis=1)"
   ]
  },
  {
   "cell_type": "code",
   "execution_count": 53,
   "metadata": {},
   "outputs": [
    {
     "name": "stdout",
     "output_type": "stream",
     "text": [
      "Your answer: -3\n",
      "Seems to be correct\n"
     ]
    }
   ],
   "source": [
    "# check your work (assumes you call your DataFrame df!)\n",
    "assert 'total_diff' in df.columns, 'Column \"total_diff\" has not been created'\n",
    "your_answer = df[(df[\"country\"] == \"Zimbabwe\") & (df[\"origin\"] == 'South Africa') & (df[\"year\"] == 2016)][\"total_diff\"].values[0]\n",
    "print(\"Your answer:\", your_answer)\n",
    "assert your_answer == -3, \"South Africa -> Zimbabwe in 2014 != -3\"\n",
    "print(\"Seems to be correct\")"
   ]
  },
  {
   "cell_type": "markdown",
   "metadata": {},
   "source": [
    "### Extra Credit"
   ]
  },
  {
   "cell_type": "code",
   "execution_count": 126,
   "metadata": {},
   "outputs": [],
   "source": [
    "def max_year(country):\n",
    "    # by the instruction \n",
    "    result = df[df[\"country\"]==country].groupby([\"country\", \"year\"])[\"total\"].count().argmax()[1]\n",
    "    # but method argmax is deprecated? use 'idxmax' instead\n",
    "    # result = df[df[\"country\"]==country].groupby([\"country\", \"year\"])[\"total\"].count().idxmax()[1]\n",
    "    return result\n",
    "    "
   ]
  },
  {
   "cell_type": "code",
   "execution_count": 127,
   "metadata": {},
   "outputs": [
    {
     "name": "stdout",
     "output_type": "stream",
     "text": [
      "Your answer: 2010\n",
      "Seems to be correct\n"
     ]
    },
    {
     "name": "stderr",
     "output_type": "stream",
     "text": [
      "/home/trimendos/anaconda3/envs/Task_187865_Pandas/lib/python3.6/site-packages/ipykernel_launcher.py:3: FutureWarning: 'argmax' is deprecated. Use 'idxmax' instead. The behavior of 'argmax' will be corrected to return the positional maximum in the future. Use 'series.values.argmax' to get the position of the maximum now.\n",
      "  This is separate from the ipykernel package so we can avoid doing imports until\n"
     ]
    }
   ],
   "source": [
    "# should return 2010\n",
    "print(\"Your answer:\", max_year(\"Canada\"))\n",
    "assert max_year(\"Canada\") == 2010, \"Answer incorrect, should be 2010\"\n",
    "print(\"Seems to be correct\")"
   ]
  }
 ],
 "metadata": {
  "kernelspec": {
   "display_name": "Python 3",
   "language": "python",
   "name": "python3"
  },
  "language_info": {
   "codemirror_mode": {
    "name": "ipython",
    "version": 3
   },
   "file_extension": ".py",
   "mimetype": "text/x-python",
   "name": "python",
   "nbconvert_exporter": "python",
   "pygments_lexer": "ipython3",
   "version": "3.6.3"
  }
 },
 "nbformat": 4,
 "nbformat_minor": 1
}
